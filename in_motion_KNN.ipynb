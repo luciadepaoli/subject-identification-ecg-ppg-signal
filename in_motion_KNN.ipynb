{
 "cells": [
  {
   "cell_type": "markdown",
   "id": "3f6e2d2f-89b9-424d-9101-1f5f3c5a8b5b",
   "metadata": {},
   "source": [
    "# In motion dataset k-NN"
   ]
  },
  {
   "cell_type": "code",
   "execution_count": null,
   "id": "72b5c083",
   "metadata": {},
   "outputs": [],
   "source": [
    "%run -i utils.py"
   ]
  },
  {
   "cell_type": "markdown",
   "id": "0badf717-23a2-42a6-9eaa-b305d6f31dbc",
   "metadata": {},
   "source": [
    "# ECG"
   ]
  },
  {
   "cell_type": "code",
   "execution_count": null,
   "id": "9afc6a09-f7c9-4ecc-afe6-36b1811a5109",
   "metadata": {},
   "outputs": [],
   "source": [
    "accuracy = np.load('accuracy_ecg_WALK.npy')\n",
    "accuracy_PCA = np.load('accuracy_ecg_PCA_WALK.npy')\n",
    "accuracy_no = np.load('accuracy_ecg_NO_WALK.npy')\n",
    "accuracy_PCA_no = np.load('accuracy_ecg_PCA_NO_WALK.npy')"
   ]
  },
  {
   "cell_type": "code",
   "execution_count": null,
   "id": "0cfb26aa-6c7f-480e-b890-03574c11543f",
   "metadata": {},
   "outputs": [],
   "source": [
    "ecg = pd.read_csv(\"../DATA_CSV/ECG_filtered_noscaled_cammina.csv\",names=[\"index\",\"Signal\",\"Label\"],skiprows=1).drop(columns=\"index\")\n",
    "\n",
    "train_ecg_df, test_ecg_df = train_test_split(ecg, test_size=0.2, stratify=ecg['Label'], random_state=123)\n",
    "\n",
    "num_train_ecg_Simo   = sum(train_ecg_df['Label'] == 0)\n",
    "num_train_ecg_Luci   = sum(train_ecg_df['Label'] == 1)\n",
    "num_train_ecg_Linda  = sum(train_ecg_df['Label'] == 2)\n",
    "num_train_ecg_Marghe = sum(train_ecg_df['Label'] == 3)\n",
    "\n",
    "num_test_ecg_Luci   = sum(test_ecg_df['Label'] == 1)\n",
    "num_test_ecg_Simo   = sum(test_ecg_df['Label'] == 0)\n",
    "num_test_ecg_Linda  = sum(test_ecg_df['Label'] == 2)\n",
    "num_test_ecg_Marghe = sum(test_ecg_df['Label'] == 3)\n",
    "\n",
    "print('TRAIN SET ECG')\n",
    "print('\\tSimo ECG: {} ({:.2f}%)'.format(num_train_ecg_Simo, 100 * num_train_ecg_Simo / len(train_ecg_df)))\n",
    "print('\\tLuci ECG: {} ({:.2f}%)'.format(num_train_ecg_Luci, 100 * num_train_ecg_Luci / len(train_ecg_df)))\n",
    "print('\\tLinda ECG: {} ({:.2f}%)'.format(num_train_ecg_Linda, 100 * num_train_ecg_Linda / len(train_ecg_df)))\n",
    "print('\\tMarghe ECG: {} ({:.2f}%)'.format(num_train_ecg_Marghe, 100 * num_train_ecg_Marghe / len(train_ecg_df)))\n",
    "\n",
    "print('VALIDATION SET ECG')\n",
    "print('\\tSimo ECG: {} ({:.2f}%)'.format(num_test_ecg_Simo, 100 * num_test_ecg_Simo / len(test_ecg_df)))\n",
    "print('\\tLuci ECG: {} ({:.2f}%)'.format(num_test_ecg_Luci, 100 * num_test_ecg_Luci / len(test_ecg_df)))\n",
    "print('\\tLinda ECG: {} ({:.2f}%)'.format(num_test_ecg_Linda, 100 * num_test_ecg_Linda / len(test_ecg_df)))\n",
    "print('\\tMarghe ECG: {} ({:.2f}%)'.format(num_test_ecg_Marghe, 100 * num_test_ecg_Marghe / len(test_ecg_df)))\n"
   ]
  },
  {
   "cell_type": "code",
   "execution_count": null,
   "id": "6956d01a-1155-4091-beaf-0469b61510be",
   "metadata": {},
   "outputs": [],
   "source": [
    "ecg_mat_train, label_ecg_train = create_array(train_ecg_df) \n",
    "ecg_mat_test, label_ecg_test  = create_array(test_ecg_df) "
   ]
  },
  {
   "cell_type": "code",
   "execution_count": null,
   "id": "4b57cb7e-1922-4396-afc0-e253403a3b12",
   "metadata": {},
   "outputs": [],
   "source": [
    "accuracy = []\n",
    "for k in range(1,100):\n",
    "    # Train Model and Predict \n",
    "    neigh = KNeighborsClassifier(n_neighbors = k, weights = 'distance', algorithm = 'brute').fit(ecg_mat_train, label_ecg_train) \n",
    "    Pred_y = neigh.predict(ecg_mat_test) \n",
    "    accuracy.append(sklearn.metrics.accuracy_score(label_ecg_test, Pred_y))"
   ]
  },
  {
   "cell_type": "code",
   "execution_count": null,
   "id": "72668eee-2edf-4bf0-b842-e6a5eb655f7d",
   "metadata": {},
   "outputs": [],
   "source": [
    "t = []\n",
    "# execution time\n",
    "for i in range(100):\n",
    "    start_time = time.time()\n",
    "    neigh = KNeighborsClassifier(n_neighbors = np.argmax(accuracy)+1, weights = 'distance', algorithm = 'brute').fit(ecg_mat_train, label_ecg_train)\n",
    "    t.append(time.time() - start_time)\n",
    "print('Execution time = ', np.mean(t))\n",
    "print('Highest accuracy = ', np.max(accuracy))"
   ]
  },
  {
   "cell_type": "markdown",
   "id": "7fba30f9-4ee7-45a1-962a-b26a447155bc",
   "metadata": {},
   "source": [
    "### Clustering after PCA"
   ]
  },
  {
   "cell_type": "code",
   "execution_count": null,
   "id": "06bf36b1-e592-48c6-88cb-5018fca891ba",
   "metadata": {},
   "outputs": [],
   "source": [
    "num_components = 0.95\n",
    "pca2 = PCA(n_components = num_components)\n",
    "pca2.fit(ecg_mat_train)\n",
    "Y_hat_train = pca2.transform(ecg_mat_train)\n",
    "Y_hat_test = pca2.transform(ecg_mat_test)"
   ]
  },
  {
   "cell_type": "code",
   "execution_count": null,
   "id": "2940f316-ee4f-40f7-8edb-7d83bdeb729e",
   "metadata": {},
   "outputs": [],
   "source": [
    "accuracy_PCA = []\n",
    "for k in range(1,100):\n",
    "    # Train Model and Predict \n",
    "    neigh = KNeighborsClassifier(n_neighbors = k, weights = 'distance', algorithm = 'brute').fit(Y_hat_train, label_ecg_train) \n",
    "    Pred_y = neigh.predict(Y_hat_test) \n",
    "    accuracy_PCA.append(sklearn.metrics.accuracy_score(label_ecg_test, Pred_y))"
   ]
  },
  {
   "cell_type": "code",
   "execution_count": null,
   "id": "5238543f-b8f6-454b-8945-33392c2a8e49",
   "metadata": {},
   "outputs": [],
   "source": [
    "t = []\n",
    "# execution time\n",
    "for i in range(100):\n",
    "    start_time = time.time()\n",
    "    neigh = KNeighborsClassifier(n_neighbors = np.argmax(accuracy_PCA)+1, weights = 'distance', algorithm = 'brute').fit(Y_hat_train, label_ecg_train)\n",
    "    t.append(time.time() - start_time)\n",
    "print('Execution time = ', np.mean(t))\n",
    "print('Highest accuracy = ', np.max(accuracy_PCA))"
   ]
  },
  {
   "cell_type": "code",
   "execution_count": null,
   "id": "763ac2b4-c5a0-4cee-b469-9e4697ff7c43",
   "metadata": {},
   "outputs": [],
   "source": [
    "from sklearn.metrics import plot_confusion_matrix\n",
    "plot_confusion_matrix(neigh, Y_hat_test, label_ecg_test, normalize = 'true', values_format = '.3f', display_labels =['A rest','B rest','A moving','B moving'])\n",
    "plt.savefig('img/confusion_matrix_ecg_walk.pdf')\n",
    "plt.show()"
   ]
  },
  {
   "cell_type": "markdown",
   "id": "ca895f3e-8470-4152-847d-cd9afa753bfb",
   "metadata": {},
   "source": [
    "### Non filtered"
   ]
  },
  {
   "cell_type": "code",
   "execution_count": null,
   "id": "a3ca9a14-7284-49fd-8945-5d896705ba36",
   "metadata": {},
   "outputs": [],
   "source": [
    "ecg = pd.read_csv(\"../DATA_CSV/ECG_nofiltered_noscaled_cammina.csv\",names=[\"index\",\"Signal\",\"Label\"],skiprows=1).drop(columns=\"index\")\n",
    "\n",
    "train_ecg_df, test_ecg_df = train_test_split(ecg, test_size=0.2, stratify=ecg['Label'], random_state=123)\n",
    "\n",
    "num_train_ecg_Simo   = sum(train_ecg_df['Label'] == 0)\n",
    "num_train_ecg_Luci   = sum(train_ecg_df['Label'] == 1)\n",
    "num_train_ecg_Linda  = sum(train_ecg_df['Label'] == 2)\n",
    "num_train_ecg_Marghe = sum(train_ecg_df['Label'] == 3)\n",
    "\n",
    "num_test_ecg_Luci   = sum(test_ecg_df['Label'] == 1)\n",
    "num_test_ecg_Simo   = sum(test_ecg_df['Label'] == 0)\n",
    "num_test_ecg_Linda  = sum(test_ecg_df['Label'] == 2)\n",
    "num_test_ecg_Marghe = sum(test_ecg_df['Label'] == 3)\n",
    "\n",
    "print('TRAIN SET ECG')\n",
    "print('\\tSimo ECG: {} ({:.2f}%)'.format(num_train_ecg_Simo, 100 * num_train_ecg_Simo / len(train_ecg_df)))\n",
    "print('\\tLuci ECG: {} ({:.2f}%)'.format(num_train_ecg_Luci, 100 * num_train_ecg_Luci / len(train_ecg_df)))\n",
    "print('\\tLinda ECG: {} ({:.2f}%)'.format(num_train_ecg_Linda, 100 * num_train_ecg_Linda / len(train_ecg_df)))\n",
    "print('\\tMarghe ECG: {} ({:.2f}%)'.format(num_train_ecg_Marghe, 100 * num_train_ecg_Marghe / len(train_ecg_df)))\n",
    "\n",
    "print('VALIDATION SET ECG')\n",
    "print('\\tSimo ECG: {} ({:.2f}%)'.format(num_test_ecg_Simo, 100 * num_test_ecg_Simo / len(test_ecg_df)))\n",
    "print('\\tLuci ECG: {} ({:.2f}%)'.format(num_test_ecg_Luci, 100 * num_test_ecg_Luci / len(test_ecg_df)))\n",
    "print('\\tLinda ECG: {} ({:.2f}%)'.format(num_test_ecg_Linda, 100 * num_test_ecg_Linda / len(test_ecg_df)))\n",
    "print('\\tMarghe ECG: {} ({:.2f}%)'.format(num_test_ecg_Marghe, 100 * num_test_ecg_Marghe / len(test_ecg_df)))\n"
   ]
  },
  {
   "cell_type": "code",
   "execution_count": null,
   "id": "bfb0cf39-3a99-40d5-9c1a-74e515fb4541",
   "metadata": {},
   "outputs": [],
   "source": [
    "ecg_mat_train, label_ecg_train = create_array(train_ecg_df) \n",
    "ecg_mat_test, label_ecg_test  = create_array(test_ecg_df) "
   ]
  },
  {
   "cell_type": "code",
   "execution_count": null,
   "id": "019e306c-eea2-4a72-9c2d-30a4b3dc102e",
   "metadata": {},
   "outputs": [],
   "source": [
    "accuracy_no = []\n",
    "for k in range(1,100):\n",
    "    # Train Model and Predict \n",
    "    neigh = KNeighborsClassifier(n_neighbors = k, weights = 'distance', algorithm = 'brute').fit(ecg_mat_train, label_ecg_train) \n",
    "    Pred_y = neigh.predict(ecg_mat_test) \n",
    "    accuracy_no.append(sklearn.metrics.accuracy_score(label_ecg_test, Pred_y))"
   ]
  },
  {
   "cell_type": "code",
   "execution_count": null,
   "id": "93935fe9-f19e-4824-bb5e-62e54d4718ec",
   "metadata": {},
   "outputs": [],
   "source": [
    "t = []\n",
    "# execution time\n",
    "for i in range(100):\n",
    "    start_time = time.time()\n",
    "    neigh = KNeighborsClassifier(n_neighbors = np.argmax(accuracy_no)+1, weights = 'distance', algorithm = 'brute').fit(ecg_mat_train, label_ecg_train)\n",
    "    t.append(time.time() - start_time)\n",
    "print('Execution time = ', np.mean(t))\n",
    "print('Highest accuracy = ', np.max(accuracy_no))"
   ]
  },
  {
   "cell_type": "markdown",
   "id": "0e7983a4-746b-42c5-80e8-a70718abc3b6",
   "metadata": {},
   "source": [
    "### Clustering after PCA "
   ]
  },
  {
   "cell_type": "code",
   "execution_count": null,
   "id": "61a347ea-9cfb-4611-ac7d-0bad3e26a53b",
   "metadata": {},
   "outputs": [],
   "source": [
    "num_components = 0.95\n",
    "pca2 = PCA(n_components = num_components)\n",
    "pca2.fit(ecg_mat_train)\n",
    "Y_hat_train = pca2.transform(ecg_mat_train)\n",
    "Y_hat_test = pca2.transform(ecg_mat_test)"
   ]
  },
  {
   "cell_type": "code",
   "execution_count": null,
   "id": "67b4ac83-59b5-4c17-8027-0a788e3e045f",
   "metadata": {},
   "outputs": [],
   "source": [
    "accuracy_PCA_no = []\n",
    "for k in range(1,100):\n",
    "    # Train Model and Predict \n",
    "    neigh = KNeighborsClassifier(n_neighbors = k, weights = 'distance', algorithm = 'brute').fit(Y_hat_train, label_ecg_train) \n",
    "    Pred_y = neigh.predict(Y_hat_test) \n",
    "    accuracy_PCA_no.append(sklearn.metrics.accuracy_score(label_ecg_test, Pred_y))"
   ]
  },
  {
   "cell_type": "code",
   "execution_count": null,
   "id": "fa41203a-7cb0-485f-adcb-b8a6477457f3",
   "metadata": {},
   "outputs": [],
   "source": [
    "t = []\n",
    "# execution time\n",
    "for i in range(100):\n",
    "    start_time = time.time()\n",
    "    neigh = KNeighborsClassifier(n_neighbors = np.argmax(accuracy_PCA_no)+1, weights = 'distance', algorithm = 'brute').fit(Y_hat_train, label_ecg_train)\n",
    "    t.append(time.time() - start_time)\n",
    "print('Execution time = ', np.mean(t))\n",
    "print('Highest accuracy = ', np.max(accuracy_PCA_no))"
   ]
  },
  {
   "cell_type": "code",
   "execution_count": null,
   "id": "027437e2-e4c9-4e4e-b9bc-041177369f7d",
   "metadata": {},
   "outputs": [],
   "source": [
    "# plt.figure(figsize=(16, 10))\n",
    "# plt.plot(accuracy, 'darkblue')\n",
    "# plt.plot(accuracy_PCA, 'darkblue', linestyle='dashed')\n",
    "# plt.plot(accuracy_no, 'darkred')\n",
    "# plt.plot(accuracy_PCA_no, 'darkred', linestyle='dashed')\n",
    "# plt.legend([\"Accuracy\",\"Accuracy PCA\", \"Accuracy non filtered\",\"Accuracy PCA non filtered\"],prop={\"size\":21})\n",
    "# plt.xlabel(\"Number of Neighbors\",size=21)\n",
    "# plt.ylabel(\"Accuracy\",size=21)\n",
    "# #plt.title(\"Accuracy of KNN for original ECG signal and for 95% variance PCA filtered and non filtered\")\n",
    "# plt.xticks(fontsize=18) \n",
    "# plt.yticks(fontsize=18) \n",
    "# plt.grid()\n",
    "# plt.savefig('img/knn_pca_ecg_WALK.pdf')\n",
    "# plt.show()"
   ]
  },
  {
   "cell_type": "markdown",
   "id": "45792ef6-6e4f-40ac-ab4d-013cf9277747",
   "metadata": {},
   "source": [
    "## PPG"
   ]
  },
  {
   "cell_type": "code",
   "execution_count": null,
   "id": "f59265fb-2dc0-4da3-a93a-d5e586c22073",
   "metadata": {},
   "outputs": [],
   "source": [
    "accuracy_pp = np.load('accuracy_ppg_WALK.npy')\n",
    "accuracy_PCA_pp = np.load('accuracy_ppg_PCA_WALK.npy')\n",
    "accuracy_no_pp = np.load('accuracy_ppg_NO_WALK.npy')\n",
    "accuracy_PCA_no_pp = np.load('accuracy_ppg_PCA_NO_WALK.npy')"
   ]
  },
  {
   "cell_type": "code",
   "execution_count": null,
   "id": "6867a01e-99f5-4f17-b0cf-bbc67952a1ee",
   "metadata": {},
   "outputs": [],
   "source": [
    "ppg = pd.read_csv(\"../DATA_CSV/PPG_filtered_noscaled_cammina.csv\",names=[\"index\",\"Signal\",\"Label\"],skiprows=1).drop(columns=\"index\")\n",
    "\n",
    "train_ppg_df, test_ppg_df = train_test_split(ppg, test_size=0.2, stratify=ppg['Label'], random_state=123)\n",
    "\n",
    "num_train_ppg_Simo   = sum(train_ppg_df['Label'] == 0)\n",
    "num_train_ppg_Luci   = sum(train_ppg_df['Label'] == 1)\n",
    "num_train_ppg_Linda  = sum(train_ppg_df['Label'] == 2)\n",
    "num_train_ppg_Marghe = sum(train_ppg_df['Label'] == 3)\n",
    "\n",
    "num_test_ppg_Luci   = sum(test_ppg_df['Label'] == 1)\n",
    "num_test_ppg_Simo   = sum(test_ppg_df['Label'] == 0)\n",
    "num_test_ppg_Linda  = sum(test_ppg_df['Label'] == 2)\n",
    "num_test_ppg_Marghe = sum(test_ppg_df['Label'] == 3)\n",
    "\n",
    "print('TRAIN SET PPG')\n",
    "print('\\tSimo ppg: {} ({:.2f}%)'.format(num_train_ppg_Simo, 100 * num_train_ppg_Simo / len(train_ppg_df)))\n",
    "print('\\tLuci ppg: {} ({:.2f}%)'.format(num_train_ppg_Luci, 100 * num_train_ppg_Luci / len(train_ppg_df)))\n",
    "print('\\tLinda ppg: {} ({:.2f}%)'.format(num_train_ppg_Linda, 100 * num_train_ppg_Linda / len(train_ppg_df)))\n",
    "print('\\tMarghe ppg: {} ({:.2f}%)'.format(num_train_ppg_Marghe, 100 * num_train_ppg_Marghe / len(train_ppg_df)))\n",
    "\n",
    "print('TEST SET PPG')\n",
    "print('\\tSimo ppg: {} ({:.2f}%)'.format(num_test_ppg_Simo, 100 * num_test_ppg_Simo / len(test_ppg_df)))\n",
    "print('\\tLuci ppg: {} ({:.2f}%)'.format(num_test_ppg_Luci, 100 * num_test_ppg_Luci / len(test_ppg_df)))\n",
    "print('\\tLinda ppg: {} ({:.2f}%)'.format(num_test_ppg_Linda, 100 * num_test_ppg_Linda / len(test_ppg_df)))\n",
    "print('\\tMarghe ppg: {} ({:.2f}%)'.format(num_test_ppg_Marghe, 100 * num_test_ppg_Marghe / len(test_ppg_df)))"
   ]
  },
  {
   "cell_type": "code",
   "execution_count": null,
   "id": "a627851e-5190-4985-ac4e-12b590ea22ff",
   "metadata": {},
   "outputs": [],
   "source": [
    "ppg_mat_train, label_ppg_train = create_array(train_ppg_df) \n",
    "ppg_mat_test, label_ppg_test   = create_array(test_ppg_df) "
   ]
  },
  {
   "cell_type": "code",
   "execution_count": null,
   "id": "f45b6399-f64a-4dc2-ab04-850d928236eb",
   "metadata": {},
   "outputs": [],
   "source": [
    "accuracy = []\n",
    "for k in range(1,100):\n",
    "    # Train Model and Predict \n",
    "    neigh = KNeighborsClassifier(n_neighbors = k, weights = 'distance', algorithm = 'brute').fit(ppg_mat_train, label_ppg_train) \n",
    "    Pred_y = neigh.predict(ppg_mat_test) \n",
    "    accuracy.append(sklearn.metrics.accuracy_score(label_ppg_test, Pred_y))"
   ]
  },
  {
   "cell_type": "code",
   "execution_count": null,
   "id": "369f3de7-9a24-4af9-908d-162a804f6936",
   "metadata": {},
   "outputs": [],
   "source": [
    "t = []\n",
    "# execution time\n",
    "for i in range(100):\n",
    "    start_time = time.time()\n",
    "    neigh = KNeighborsClassifier(n_neighbors = np.argmax(accuracy)+1, weights = 'distance', algorithm = 'brute').fit(ppg_mat_train, label_ppg_train) \n",
    "    t.append(time.time() - start_time)\n",
    "print('Execution time = ', np.mean(t))\n",
    "print('Highest accuracy = ', np.max(accuracy))"
   ]
  },
  {
   "cell_type": "markdown",
   "id": "1331a7d1-da5d-4c5b-abc5-085918a3c18e",
   "metadata": {},
   "source": [
    "### PCA"
   ]
  },
  {
   "cell_type": "code",
   "execution_count": null,
   "id": "21f8d8d3-3b0e-44f9-9d76-26f80496686a",
   "metadata": {},
   "outputs": [],
   "source": [
    "num_components = 0.95\n",
    "pca2 = PCA(n_components = num_components)\n",
    "pca2.fit(ppg_mat_train)\n",
    "Y_hat_train = pca2.transform(ppg_mat_train)\n",
    "Y_hat_test = pca2.transform(ppg_mat_test)"
   ]
  },
  {
   "cell_type": "code",
   "execution_count": null,
   "id": "b2588630-c066-441a-8206-b9ab1f9698e8",
   "metadata": {},
   "outputs": [],
   "source": [
    "accuracy_PCA = []\n",
    "for k in range(1,100):\n",
    "    # Train Model and Predict \n",
    "    neigh = KNeighborsClassifier(n_neighbors = k, weights = 'distance', algorithm = 'brute').fit(Y_hat_train, label_ppg_train) \n",
    "    Pred_y = neigh.predict(Y_hat_test) \n",
    "    accuracy_PCA.append(sklearn.metrics.accuracy_score(label_ppg_test, Pred_y))"
   ]
  },
  {
   "cell_type": "code",
   "execution_count": null,
   "id": "1ee28f4b-41f2-4f05-84dc-ab2f05611e50",
   "metadata": {},
   "outputs": [],
   "source": [
    "t = []\n",
    "# execution time\n",
    "for i in range(100):\n",
    "    start_time = time.time()\n",
    "    neigh = KNeighborsClassifier(n_neighbors = np.argmax(accuracy_PCA)+1, weights = 'distance', algorithm = 'brute').fit(Y_hat_train, label_ppg_train) \n",
    "    t.append(time.time() - start_time)\n",
    "print('Execution time = ', np.mean(t))\n",
    "print('Highest accuracy = ', np.max(accuracy_PCA))"
   ]
  },
  {
   "cell_type": "markdown",
   "id": "79339321-c502-42a7-8d3c-8482944a2f91",
   "metadata": {},
   "source": [
    "### Non filtered"
   ]
  },
  {
   "cell_type": "code",
   "execution_count": null,
   "id": "4ecb1b0d-f82f-45cd-9477-03b97a6a8cd5",
   "metadata": {},
   "outputs": [],
   "source": [
    "ppg = pd.read_csv(\"../DATA_CSV/PPG_nofiltered_noscaled_cammina.csv\",names=[\"index\",\"Signal\",\"Label\"],skiprows=1).drop(columns=\"index\")\n",
    "\n",
    "train_ppg_df, test_ppg_df = train_test_split(ppg, test_size=0.2, stratify=ppg['Label'], random_state=123)\n",
    "\n",
    "num_train_ppg_Simo   = sum(train_ppg_df['Label'] == 0)\n",
    "num_train_ppg_Luci   = sum(train_ppg_df['Label'] == 1)\n",
    "num_train_ppg_Linda  = sum(train_ppg_df['Label'] == 2)\n",
    "num_train_ppg_Marghe = sum(train_ppg_df['Label'] == 3)\n",
    "\n",
    "num_test_ppg_Luci   = sum(test_ppg_df['Label'] == 1)\n",
    "num_test_ppg_Simo   = sum(test_ppg_df['Label'] == 0)\n",
    "num_test_ppg_Linda  = sum(test_ppg_df['Label'] == 2)\n",
    "num_test_ppg_Marghe = sum(test_ppg_df['Label'] == 3)\n",
    "\n",
    "print('TRAIN SET PPG')\n",
    "print('\\tSimo ppg: {} ({:.2f}%)'.format(num_train_ppg_Simo, 100 * num_train_ppg_Simo / len(train_ppg_df)))\n",
    "print('\\tLuci ppg: {} ({:.2f}%)'.format(num_train_ppg_Luci, 100 * num_train_ppg_Luci / len(train_ppg_df)))\n",
    "print('\\tLinda ppg: {} ({:.2f}%)'.format(num_train_ppg_Linda, 100 * num_train_ppg_Linda / len(train_ppg_df)))\n",
    "print('\\tMarghe ppg: {} ({:.2f}%)'.format(num_train_ppg_Marghe, 100 * num_train_ppg_Marghe / len(train_ppg_df)))\n",
    "\n",
    "print('TEST SET PPG')\n",
    "print('\\tSimo ppg: {} ({:.2f}%)'.format(num_test_ppg_Simo, 100 * num_test_ppg_Simo / len(test_ppg_df)))\n",
    "print('\\tLuci ppg: {} ({:.2f}%)'.format(num_test_ppg_Luci, 100 * num_test_ppg_Luci / len(test_ppg_df)))\n",
    "print('\\tLinda ppg: {} ({:.2f}%)'.format(num_test_ppg_Linda, 100 * num_test_ppg_Linda / len(test_ppg_df)))\n",
    "print('\\tMarghe ppg: {} ({:.2f}%)'.format(num_test_ppg_Marghe, 100 * num_test_ppg_Marghe / len(test_ppg_df)))"
   ]
  },
  {
   "cell_type": "code",
   "execution_count": null,
   "id": "be84c428-d073-49f7-875e-a1d2db535549",
   "metadata": {},
   "outputs": [],
   "source": [
    "ppg_mat_train, label_ppg_train = create_array(train_ppg_df) \n",
    "ppg_mat_test, label_ppg_test   = create_array(test_ppg_df) "
   ]
  },
  {
   "cell_type": "code",
   "execution_count": null,
   "id": "75b7cb89-4f18-491e-9e4b-f9acaeb3dfaa",
   "metadata": {},
   "outputs": [],
   "source": [
    "accuracy_no = []\n",
    "for k in range(1,100):\n",
    "    # Train Model and Predict \n",
    "    neigh = KNeighborsClassifier(n_neighbors = k, weights = 'distance', algorithm = 'brute').fit(ppg_mat_train, label_ppg_train) \n",
    "    Pred_y = neigh.predict(ppg_mat_test) \n",
    "    accuracy_no.append(sklearn.metrics.accuracy_score(label_ppg_test, Pred_y))"
   ]
  },
  {
   "cell_type": "code",
   "execution_count": null,
   "id": "f1627900-b183-419d-8357-c3711d88cbb4",
   "metadata": {},
   "outputs": [],
   "source": [
    "t = []\n",
    "# execution time\n",
    "for i in range(100):\n",
    "    start_time = time.time()\n",
    "    neigh = KNeighborsClassifier(n_neighbors = np.argmax(accuracy_no)+1, weights = 'distance', algorithm = 'brute').fit(ppg_mat_train, label_ppg_train) \n",
    "    t.append(time.time() - start_time)\n",
    "print('Execution time = ', np.mean(t))\n",
    "print('Highest accuracy = ', np.max(accuracy_no))"
   ]
  },
  {
   "cell_type": "code",
   "execution_count": null,
   "id": "47bac254-5dda-4b76-926c-f6a56281b776",
   "metadata": {},
   "outputs": [],
   "source": [
    "from sklearn.metrics import plot_confusion_matrix\n",
    "plot_confusion_matrix(neigh, ppg_mat_test, label_ppg_test, normalize = 'true', values_format = '.3f', display_labels =['A rest','B rest','A moving','B moving'])\n",
    "plt.savefig('img/confusion_matrix_ppg_walk.pdf')\n",
    "plt.show()"
   ]
  },
  {
   "cell_type": "markdown",
   "id": "3fc1eace-3b6d-43a5-97e8-de2d48a101c6",
   "metadata": {},
   "source": [
    "### PCA"
   ]
  },
  {
   "cell_type": "code",
   "execution_count": null,
   "id": "9dddedc2-c612-4b24-a11a-da788581cbd9",
   "metadata": {},
   "outputs": [],
   "source": [
    "num_components = 0.95\n",
    "pca2 = PCA(n_components = num_components)\n",
    "pca2.fit(ppg_mat_train)\n",
    "Y_hat_train = pca2.transform(ppg_mat_train)\n",
    "Y_hat_test = pca2.transform(ppg_mat_test)"
   ]
  },
  {
   "cell_type": "code",
   "execution_count": null,
   "id": "320f4916-e949-4a99-a82a-57be5ddedb7d",
   "metadata": {},
   "outputs": [],
   "source": [
    "accuracy_PCA_no = []\n",
    "for k in range(1,100):\n",
    "    # Train Model and Predict \n",
    "    neigh = KNeighborsClassifier(n_neighbors = k, weights = 'distance', algorithm = 'brute').fit(Y_hat_train, label_ppg_train) \n",
    "    Pred_y = neigh.predict(Y_hat_test) \n",
    "    accuracy_PCA_no.append(sklearn.metrics.accuracy_score(label_ppg_test, Pred_y))"
   ]
  },
  {
   "cell_type": "code",
   "execution_count": null,
   "id": "a6052075-8c21-4295-9f45-06a10dc20aeb",
   "metadata": {},
   "outputs": [],
   "source": [
    "t = []\n",
    "# execution time\n",
    "for i in range(100):\n",
    "    start_time = time.time()\n",
    "    neigh = KNeighborsClassifier(n_neighbors = np.argmax(accuracy_PCA_no)+1, weights = 'distance', algorithm = 'brute').fit(Y_hat_train, label_ppg_train) \n",
    "    t.append(time.time() - start_time)\n",
    "print('Execution time = ', np.mean(t))\n",
    "print('Highest accuracy = ', np.max(accuracy_PCA_no))"
   ]
  },
  {
   "cell_type": "code",
   "execution_count": null,
   "id": "021b9439-206d-46a7-afa0-091257e1fb67",
   "metadata": {},
   "outputs": [],
   "source": [
    "# plt.figure(figsize=(16, 10))\n",
    "# plt.plot(accuracy, 'darkblue')\n",
    "# plt.plot(accuracy_PCA, 'darkblue', linestyle='dashed')\n",
    "# plt.plot(accuracy_no, 'darkred')\n",
    "# plt.plot(accuracy_PCA_no, 'darkred', linestyle='dashed')\n",
    "# plt.legend([\"Accuracy\",\"Accuracy PCA\", \"Accuracy non filtered\",\"Accuracy PCA non filtered\"],prop={\"size\":21})\n",
    "# plt.xlabel(\"Number of Neighbors\",size=21)\n",
    "# plt.ylabel(\"Accuracy\",size=21)\n",
    "# #plt.title(\"Accuracy of KNN for original PPG signal and for 95% variance PCA filtered and non filtered\")\n",
    "# plt.xticks(fontsize=18) \n",
    "# plt.yticks(fontsize=18) \n",
    "# plt.grid()\n",
    "# plt.savefig('img/knn_pca_ppg_WALK.pdf')\n",
    "# plt.show()"
   ]
  },
  {
   "cell_type": "code",
   "execution_count": null,
   "id": "680c36cc-4177-46bd-81df-12d483e48363",
   "metadata": {},
   "outputs": [],
   "source": [
    "fig, (ax1, ax2) = plt.subplots(1, 2,figsize=(25,10)) \n",
    "fig.suptitle(\"Accuracy of KNN for original signal and for 95% variance PCA filtered and non filtered in motion dataset\",fontsize=18) \n",
    "for item in ([ax1.title, ax1.xaxis.label, ax1.yaxis.label]): \n",
    "    item.set_fontsize(21) \n",
    "for item in (ax1.get_xticklabels() + ax1.get_yticklabels()): \n",
    "    item.set_fontsize(18) \n",
    "ax1.plot(accuracy, 'darkblue')\n",
    "ax1.plot(accuracy_PCA, 'darkblue', linestyle='dashed')\n",
    "ax1.plot(accuracy_no, 'darkred')\n",
    "ax1.plot(accuracy_PCA_no, 'darkred', linestyle='dashed')\n",
    "ax1.legend([\"Accuracy\",\"Accuracy PCA\", \"Accuracy non filtered\",\"Accuracy PCA non filtered\"])\n",
    "ax1.set_xlabel(\"Number of Neighbors\")\n",
    "ax1.set_ylabel(\"Accuracy\")\n",
    "#ax1.legend(fontsize=18) \n",
    "ax1.grid() \n",
    "\n",
    "for item in ([ax2.title, ax2.xaxis.label, ax2.yaxis.label]): \n",
    "    item.set_fontsize(21) \n",
    "for item in (ax2.get_xticklabels() + ax2.get_yticklabels()): \n",
    "    item.set_fontsize(18) \n",
    "ax2.plot(accuracy_pp, 'darkblue')\n",
    "ax2.plot(accuracy_PCA_pp, 'darkblue', linestyle='dashed')\n",
    "ax2.plot(accuracy_no_pp, 'darkred')\n",
    "ax2.plot(accuracy_PCA_no_pp, 'darkred', linestyle='dashed')\n",
    "ax2.legend([\"Accuracy\",\"Accuracy PCA\", \"Accuracy non filtered\",\"Accuracy PCA non filtered\"])\n",
    "ax2.set_xlabel(\"Number of Neighbors\")\n",
    "ax2.set_ylabel(\"Accuracy\")\n",
    "#ax2.legend(fontsize=18) \n",
    "ax2.grid() \n",
    "\n",
    "plt.savefig(\"./img/knn_WALK.pdf\")"
   ]
  }
 ],
 "metadata": {
  "kernelspec": {
   "display_name": "Python 3 (ipykernel)",
   "language": "python",
   "name": "python3"
  },
  "language_info": {
   "codemirror_mode": {
    "name": "ipython",
    "version": 3
   },
   "file_extension": ".py",
   "mimetype": "text/x-python",
   "name": "python",
   "nbconvert_exporter": "python",
   "pygments_lexer": "ipython3",
   "version": "3.8.3"
  }
 },
 "nbformat": 4,
 "nbformat_minor": 5
}
