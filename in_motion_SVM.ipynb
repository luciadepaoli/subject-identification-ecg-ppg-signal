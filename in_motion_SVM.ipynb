{
 "cells": [
  {
   "cell_type": "markdown",
   "id": "803a5d57-e918-44f8-9649-a06451fb2457",
   "metadata": {},
   "source": [
    "# In motion dataset SVM"
   ]
  },
  {
   "cell_type": "code",
   "execution_count": null,
   "id": "bbba1f86",
   "metadata": {},
   "outputs": [],
   "source": [
    "%run -i utils.py"
   ]
  },
  {
   "cell_type": "markdown",
   "id": "ff571e3b-3bdf-4f73-a7cc-9951e3c056f9",
   "metadata": {},
   "source": [
    "# ECG"
   ]
  },
  {
   "cell_type": "markdown",
   "id": "4163db77-d711-4fce-b3f0-231d1744a453",
   "metadata": {},
   "source": [
    "### SVM ECG FILTERED"
   ]
  },
  {
   "cell_type": "code",
   "execution_count": null,
   "id": "da4cbdb1-3e42-4e06-9980-8908c080e079",
   "metadata": {},
   "outputs": [],
   "source": [
    "ecg = pd.read_csv(\"../DATA_CSV/ECG_filtered_noscaled_cammina.csv\",names=[\"index\",\"Signal\",\"Label\"],skiprows=1).drop(columns=\"index\")\n",
    "\n",
    "train_ecg_df, test_ecg_df = train_test_split(ecg, test_size=0.2, stratify=ecg['Label'], random_state=123)\n",
    "\n",
    "ecg_mat_train, label_ecg_train = create_array(train_ecg_df) \n",
    "ecg_mat_test, label_ecg_test  = create_array(test_ecg_df) \n",
    "\n",
    "X_train = ecg_mat_train\n",
    "y_train = label_ecg_train\n",
    "X_test = ecg_mat_test\n",
    "y_test = label_ecg_test"
   ]
  },
  {
   "cell_type": "code",
   "execution_count": null,
   "id": "6a601c53-15f1-4066-b0b0-5e8643913d73",
   "metadata": {
    "collapsed": true,
    "jupyter": {
     "outputs_hidden": true
    },
    "tags": []
   },
   "outputs": [],
   "source": [
    "# parameters for linear SVM\n",
    "parameters = {'kernel' : ['linear'] , 'C': [0.001, 0.01, 0.1, 1, 10, 100]}\n",
    "  \n",
    "svc = SVC()\n",
    "clf = GridSearchCV(svc, parameters, cv=4, return_train_score=True)\n",
    "clf.fit(X_train, y_train)\n",
    "\n",
    "print ('RESULTS FOR LINEAR KERNEL')\n",
    "\n",
    "print(\"Best parameters set found:\")\n",
    "print(clf.best_params_)\n",
    "\n",
    "print(\"Score with best parameters:\")\n",
    "print(clf.best_score_)\n",
    "\n",
    "print(\"All scores on the grid:\")\n",
    "df=pd.DataFrame(clf.cv_results_)\n",
    "df[['params', 'mean_test_score']]"
   ]
  },
  {
   "cell_type": "code",
   "execution_count": null,
   "id": "4608b6eb-e627-48c4-b56a-864bde05339b",
   "metadata": {
    "collapsed": true,
    "jupyter": {
     "outputs_hidden": true
    },
    "tags": []
   },
   "outputs": [],
   "source": [
    "# parameters for poly with degree 2 kernel\n",
    "parameters = {'C': [0.05, 0.5, 5],'gamma':[0.05,0.5,5.]}\n",
    "\n",
    "#run SVM with poly of degree 2 kernel\n",
    "\n",
    "svc = SVC()\n",
    "clf = GridSearchCV(SVC(kernel='poly', degree=2), parameters, cv=4, return_train_score=True)\n",
    "clf.fit(X_train, y_train)\n",
    "\n",
    "print ('RESULTS FOR POLY DEGREE=2 KERNEL')\n",
    "\n",
    "print(\"Best parameters set found:\")\n",
    "print(clf.best_params_)\n",
    "\n",
    "print(\"Score with best parameters:\")\n",
    "print(clf.best_score_)\n",
    "\n",
    "print(\"\\nAll scores on the grid:\")\n",
    "df=pd.DataFrame(clf.cv_results_)\n",
    "df[['params', 'mean_test_score']]"
   ]
  },
  {
   "cell_type": "code",
   "execution_count": null,
   "id": "64fe59b8-6499-42bd-b54c-c3b37c33633a",
   "metadata": {
    "collapsed": true,
    "jupyter": {
     "outputs_hidden": true
    },
    "tags": []
   },
   "outputs": [],
   "source": [
    "# parameters for poly with higher degree kernel\n",
    "parameters = {'C': [0.05, 0.5, 5],'gamma':[0.05,0.5,5.]}\n",
    "\n",
    "#run SVM with poly of higher degree kernel\n",
    "degree = 4\n",
    "\n",
    "svc = SVC()\n",
    "clf = GridSearchCV(SVC(kernel='poly', degree=degree), parameters, cv=4, return_train_score=True)\n",
    "clf.fit(X_train, y_train)\n",
    "\n",
    "print ('RESULTS FOR POLY DEGREE=', degree, ' KERNEL')\n",
    "\n",
    "print(\"Best parameters set found:\")\n",
    "print(clf.best_params_)\n",
    "\n",
    "print(\"Score with best parameters:\")\n",
    "print(clf.best_score_)\n",
    "\n",
    "print(\"\\nAll scores on the grid:\")\n",
    "df=pd.DataFrame(clf.cv_results_)\n",
    "df[['params', 'mean_test_score']]"
   ]
  },
  {
   "cell_type": "code",
   "execution_count": null,
   "id": "0013b915-df40-4a57-a5bd-d976d855ef5d",
   "metadata": {
    "collapsed": true,
    "jupyter": {
     "outputs_hidden": true
    },
    "tags": []
   },
   "outputs": [],
   "source": [
    "#parameters for rbf SVM\n",
    "parameters = {'C': [0.5, 5, 50, 500],'gamma':[0.005, 0.05, 0.5,5]}\n",
    "\n",
    "#run SVM with rbf kernel\n",
    "\n",
    "svc = SVC()\n",
    "#clf = GridSearchCV(SVC(kernel='rbf', max_iter = 1000), parameters, cv=4, return_train_score=True)\n",
    "clf = RandomizedSearchCV(SVC(kernel='rbf', max_iter = 1000), parameters, cv=4, return_train_score=True)\n",
    "clf.fit(X_train, y_train)\n",
    "\n",
    "print ('RESULTS FOR rbf KERNEL')\n",
    "\n",
    "print(\"Best parameters set found:\")\n",
    "print(clf.best_params_)\n",
    "\n",
    "print(\"Score with best parameters:\")\n",
    "print(clf.best_score_)\n",
    "\n",
    "print(\"\\nAll scores on the grid:\")\n",
    "df=pd.DataFrame(clf.cv_results_)\n",
    "df[['params', 'mean_test_score']]"
   ]
  },
  {
   "cell_type": "code",
   "execution_count": null,
   "id": "726c1437-53f7-476e-9bc6-36005875b3b0",
   "metadata": {},
   "outputs": [],
   "source": [
    "# execution time\n",
    "t = []\n",
    "for i in range(100):\n",
    "    start_time = time.time()\n",
    "    best_SVM = SVC(kernel='poly',degree=4, C=0.05, gamma=0.05).fit(X_train,y_train)\n",
    "    t.append(time.time() - start_time)\n",
    "print('Execution time = ', np.mean(t))\n",
    "print('Highest score = ', best_SVM.score(X_test,y_test))"
   ]
  },
  {
   "cell_type": "markdown",
   "id": "b77eac30-983a-4170-9139-2ef61775e86d",
   "metadata": {},
   "source": [
    "### SVM ECG FILTERED PCA"
   ]
  },
  {
   "cell_type": "code",
   "execution_count": null,
   "id": "fa16a9c9-c500-4daf-a58b-bd2cf90cf6b6",
   "metadata": {},
   "outputs": [],
   "source": [
    "ecg = pd.read_csv(\"../DATA_CSV/ECG_filtered_noscaled_cammina.csv\",names=[\"index\",\"Signal\",\"Label\"],skiprows=1).drop(columns=\"index\")\n",
    "\n",
    "train_ecg_df, test_ecg_df = train_test_split(ecg, test_size=0.2, stratify=ecg['Label'], random_state=123)\n",
    "\n",
    "ecg_mat_train, label_ecg_train = create_array(train_ecg_df) \n",
    "ecg_mat_test, label_ecg_test  = create_array(test_ecg_df) \n",
    "\n",
    "num_components = 0.95\n",
    "pca2 = PCA(n_components = num_components)\n",
    "pca2.fit(ecg_mat_train)\n",
    "ecg_mat_train = pca2.transform(ecg_mat_train)\n",
    "ecg_mat_test = pca2.transform(ecg_mat_test)\n",
    "\n",
    "X_train = ecg_mat_train\n",
    "y_train = label_ecg_train\n",
    "X_test = ecg_mat_test\n",
    "y_test = label_ecg_test\n",
    "\n",
    "# from sklearn.preprocessing import MinMaxScaler\n",
    "# scaling = MinMaxScaler(feature_range=(-1,1)).fit(X_train)\n",
    "# X_train = scaling.transform(X_train)\n",
    "# X_test = scaling.transform(X_test)"
   ]
  },
  {
   "cell_type": "code",
   "execution_count": null,
   "id": "fccab3ae-8818-49fa-9401-3a1d485b2537",
   "metadata": {
    "collapsed": true,
    "jupyter": {
     "outputs_hidden": true
    },
    "tags": []
   },
   "outputs": [],
   "source": [
    "# parameters for linear SVM\n",
    "parameters = {'kernel' : ['linear'] , 'C': [0.001, 0.01, 0.1, 1, 10, 100]}\n",
    "  \n",
    "svc = SVC()\n",
    "clf = GridSearchCV(svc, parameters, cv=4, return_train_score=True)\n",
    "clf.fit(X_train, y_train)\n",
    "\n",
    "print ('RESULTS FOR LINEAR KERNEL')\n",
    "\n",
    "print(\"Best parameters set found:\")\n",
    "print(clf.best_params_)\n",
    "\n",
    "print(\"Score with best parameters:\")\n",
    "print(clf.best_score_)\n",
    "\n",
    "print(\"All scores on the grid:\")\n",
    "df=pd.DataFrame(clf.cv_results_)\n",
    "df[['params', 'mean_test_score']]"
   ]
  },
  {
   "cell_type": "code",
   "execution_count": null,
   "id": "11275005-f760-4085-aef7-f42853f437f1",
   "metadata": {
    "collapsed": true,
    "jupyter": {
     "outputs_hidden": true
    },
    "tags": []
   },
   "outputs": [],
   "source": [
    "# parameters for poly with degree 2 kernel\n",
    "parameters = {'C': [0.05, 0.5, 5],'gamma':[0.05,0.5,5.]}\n",
    "\n",
    "#run SVM with poly of degree 2 kernel\n",
    "\n",
    "svc = SVC()\n",
    "clf = GridSearchCV(SVC(kernel='poly', degree=2), parameters, cv=4, return_train_score=True)\n",
    "clf.fit(X_train, y_train)\n",
    "\n",
    "print ('RESULTS FOR POLY DEGREE=2 KERNEL')\n",
    "\n",
    "print(\"Best parameters set found:\")\n",
    "print(clf.best_params_)\n",
    "\n",
    "print(\"Score with best parameters:\")\n",
    "print(clf.best_score_)\n",
    "\n",
    "print(\"\\nAll scores on the grid:\")\n",
    "df=pd.DataFrame(clf.cv_results_)\n",
    "df[['params', 'mean_test_score']]"
   ]
  },
  {
   "cell_type": "code",
   "execution_count": null,
   "id": "310136d2-6be3-4622-82b3-2596f2e8663c",
   "metadata": {
    "collapsed": true,
    "jupyter": {
     "outputs_hidden": true
    },
    "tags": []
   },
   "outputs": [],
   "source": [
    "# parameters for poly with higher degree kernel\n",
    "parameters = {'C': [0.05, 0.5, 5],'gamma':[0.05,0.5,5.]}\n",
    "\n",
    "#run SVM with poly of higher degree kernel\n",
    "degree = 4\n",
    "\n",
    "svc = SVC()\n",
    "#clf = GridSearchCV(SVC(kernel='poly', degree=degree), parameters, cv=4, return_train_score=True)\n",
    "clf = RandomizedSearchCV(SVC(kernel='poly', degree=degree, max_iter = 1000), parameters, cv=4, return_train_score=True)\n",
    "clf.fit(X_train, y_train)\n",
    "\n",
    "print ('RESULTS FOR POLY DEGREE=', degree, ' KERNEL')\n",
    "\n",
    "print(\"Best parameters set found:\")\n",
    "print(clf.best_params_)\n",
    "\n",
    "print(\"Score with best parameters:\")\n",
    "print(clf.best_score_)\n",
    "\n",
    "print(\"\\nAll scores on the grid:\")\n",
    "df=pd.DataFrame(clf.cv_results_)\n",
    "df[['params', 'mean_test_score']]"
   ]
  },
  {
   "cell_type": "code",
   "execution_count": null,
   "id": "653d86e4-c10c-44aa-a932-36b61ca31aab",
   "metadata": {
    "collapsed": true,
    "jupyter": {
     "outputs_hidden": true
    },
    "tags": []
   },
   "outputs": [],
   "source": [
    "# parameters for rbf SVM\n",
    "parameters = {'C': [0.5, 5, 50, 500],'gamma':[0.005, 0.05, 0.5,5]}\n",
    "\n",
    "#run SVM with rbf kernel\n",
    "\n",
    "svc = SVC()\n",
    "#clf = GridSearchCV(SVC(kernel='rbf'), parameters, cv=4, return_train_score=True)\n",
    "clf = RandomizedSearchCV(SVC(kernel='rbf', max_iter = 1000), parameters, cv=4, return_train_score=True)\n",
    "clf.fit(X_train, y_train)\n",
    "\n",
    "print ('RESULTS FOR rbf KERNEL')\n",
    "\n",
    "print(\"Best parameters set found:\")\n",
    "print(clf.best_params_)\n",
    "\n",
    "print(\"Score with best parameters:\")\n",
    "print(clf.best_score_)\n",
    "\n",
    "print(\"\\nAll scores on the grid:\")\n",
    "df=pd.DataFrame(clf.cv_results_)\n",
    "df[['params', 'mean_test_score']]"
   ]
  },
  {
   "cell_type": "code",
   "execution_count": null,
   "id": "601a4250-a332-4008-b8a5-087887025ef8",
   "metadata": {},
   "outputs": [],
   "source": [
    "# execution time\n",
    "t = []\n",
    "for i in range(100):\n",
    "    start_time = time.time()\n",
    "    best_SVM = SVC(kernel='rbf', C=500, gamma=0.05).fit(X_train,y_train)\n",
    "    t.append(time.time() - start_time)\n",
    "print('Execution time = ', np.mean(t))\n",
    "print('Highest score = ', best_SVM.score(X_test,y_test))"
   ]
  },
  {
   "cell_type": "markdown",
   "id": "448db649-9db4-4d33-93c0-29a6730fdcaa",
   "metadata": {},
   "source": [
    "### SVM ECG nonFILTERED"
   ]
  },
  {
   "cell_type": "code",
   "execution_count": null,
   "id": "a80a8ec4-1190-40a2-b38b-df44a39cced0",
   "metadata": {},
   "outputs": [],
   "source": [
    "ecg = pd.read_csv(\"../DATA_CSV/ECG_nofiltered_noscaled_cammina.csv\",names=[\"index\",\"Signal\",\"Label\"],skiprows=1).drop(columns=\"index\")\n",
    "\n",
    "train_ecg_df, test_ecg_df = train_test_split(ecg, test_size=0.2, stratify=ecg['Label'], random_state=123)\n",
    "\n",
    "ecg_mat_train, label_ecg_train = create_array(train_ecg_df) \n",
    "ecg_mat_test, label_ecg_test  = create_array(test_ecg_df) \n",
    "\n",
    "X_train = ecg_mat_train\n",
    "y_train = label_ecg_train\n",
    "X_test = ecg_mat_test\n",
    "y_test = label_ecg_test\n",
    "\n",
    "# from sklearn.preprocessing import MinMaxScaler\n",
    "# scaling = MinMaxScaler(feature_range=(-1,1)).fit(X_train)\n",
    "# X_train = scaling.transform(X_train)\n",
    "# X_test = scaling.transform(X_test)"
   ]
  },
  {
   "cell_type": "code",
   "execution_count": null,
   "id": "aa3fb58e-47ad-49b8-8c81-58684d4dfe2d",
   "metadata": {
    "collapsed": true,
    "jupyter": {
     "outputs_hidden": true
    },
    "tags": []
   },
   "outputs": [],
   "source": [
    "# parameters for linear SVM\n",
    "parameters = {'kernel' : ['linear'] , 'C': [0.001, 0.01, 0.1, 1, 10, 100]}\n",
    "  \n",
    "svc = SVC()\n",
    "clf = GridSearchCV(svc, parameters, cv=4, return_train_score=True)\n",
    "clf.fit(X_train, y_train)\n",
    "\n",
    "print ('RESULTS FOR LINEAR KERNEL')\n",
    "\n",
    "print(\"Best parameters set found:\")\n",
    "print(clf.best_params_)\n",
    "\n",
    "print(\"Score with best parameters:\")\n",
    "print(clf.best_score_)\n",
    "\n",
    "print(\"All scores on the grid:\")\n",
    "df=pd.DataFrame(clf.cv_results_)\n",
    "df[['params', 'mean_test_score']]"
   ]
  },
  {
   "cell_type": "code",
   "execution_count": null,
   "id": "6d8c8a25-e61a-4761-9b9c-cb0230d59378",
   "metadata": {
    "collapsed": true,
    "jupyter": {
     "outputs_hidden": true
    },
    "tags": []
   },
   "outputs": [],
   "source": [
    "# parameters for poly with degree 2 kernel\n",
    "parameters = {'C': [0.05, 0.5, 5],'gamma':[0.05,0.5,5.]}\n",
    "\n",
    "#run SVM with poly of degree 2 kernel\n",
    "\n",
    "svc = SVC()\n",
    "clf = GridSearchCV(SVC(kernel='poly', degree=2), parameters, cv=4, return_train_score=True)\n",
    "clf.fit(X_train, y_train)\n",
    "\n",
    "print ('RESULTS FOR POLY DEGREE=2 KERNEL')\n",
    "\n",
    "print(\"Best parameters set found:\")\n",
    "print(clf.best_params_)\n",
    "\n",
    "print(\"Score with best parameters:\")\n",
    "print(clf.best_score_)\n",
    "\n",
    "print(\"\\nAll scores on the grid:\")\n",
    "df=pd.DataFrame(clf.cv_results_)\n",
    "df[['params', 'mean_test_score']]"
   ]
  },
  {
   "cell_type": "code",
   "execution_count": null,
   "id": "3f704058-ef8f-43e8-a1ef-e13865ccd34e",
   "metadata": {
    "collapsed": true,
    "jupyter": {
     "outputs_hidden": true
    },
    "tags": []
   },
   "outputs": [],
   "source": [
    "# parameters for poly with higher degree kernel\n",
    "parameters = {'C': [0.05, 0.5, 5],'gamma':[0.05,0.5,5.]}\n",
    "\n",
    "#run SVM with poly of higher degree kernel\n",
    "degree = 4\n",
    "\n",
    "svc = SVC()\n",
    "clf = GridSearchCV(SVC(kernel='poly', degree=degree), parameters, cv=4, return_train_score=True)\n",
    "#clf = RandomizedSearchCV(SVC(kernel='poly', degree=degree, max_iter = 1000), parameters, cv=4, return_train_score=True)\n",
    "clf.fit(X_train, y_train)\n",
    "\n",
    "print ('RESULTS FOR POLY DEGREE=', degree, ' KERNEL')\n",
    "\n",
    "print(\"Best parameters set found:\")\n",
    "print(clf.best_params_)\n",
    "\n",
    "print(\"Score with best parameters:\")\n",
    "print(clf.best_score_)\n",
    "\n",
    "print(\"\\nAll scores on the grid:\")\n",
    "df=pd.DataFrame(clf.cv_results_)\n",
    "df[['params', 'mean_test_score']]"
   ]
  },
  {
   "cell_type": "code",
   "execution_count": null,
   "id": "75cd3af7-63b7-462a-861f-7823f9b754d3",
   "metadata": {
    "collapsed": true,
    "jupyter": {
     "outputs_hidden": true
    },
    "tags": []
   },
   "outputs": [],
   "source": [
    "# parameters for rbf SVM\n",
    "parameters = {'C': [0.5, 5, 50, 500],'gamma':[0.005, 0.05, 0.5,5]}\n",
    "\n",
    "#run SVM with rbf kernel\n",
    "\n",
    "svc = SVC()\n",
    "clf = GridSearchCV(SVC(kernel='rbf', max_iter = 1000), parameters, cv=4, return_train_score=True)\n",
    "clf.fit(X_train, y_train)\n",
    "\n",
    "print ('RESULTS FOR rbf KERNEL')\n",
    "\n",
    "print(\"Best parameters set found:\")\n",
    "print(clf.best_params_)\n",
    "\n",
    "print(\"Score with best parameters:\")\n",
    "print(clf.best_score_)\n",
    "\n",
    "print(\"\\nAll scores on the grid:\")\n",
    "df=pd.DataFrame(clf.cv_results_)\n",
    "df[['params', 'mean_test_score']]"
   ]
  },
  {
   "cell_type": "code",
   "execution_count": null,
   "id": "a33d485e-b22f-4290-8e5c-5f2e5aeb29e6",
   "metadata": {},
   "outputs": [],
   "source": [
    "# execution time\n",
    "t = []\n",
    "for i in range(100):\n",
    "    start_time = time.time()\n",
    "    best_SVM = SVC(kernel='poly',degree=4, C=0.05, gamma=0.05).fit(X_train,y_train)\n",
    "    t.append(time.time() - start_time)\n",
    "print('Execution time = ', np.mean(t))\n",
    "print('Highest score = ', best_SVM.score(X_test,y_test))"
   ]
  },
  {
   "cell_type": "markdown",
   "id": "5bba889d-2d27-4d40-9423-8eec247a65f2",
   "metadata": {},
   "source": [
    "### SVM ECG noFILTERED PCA"
   ]
  },
  {
   "cell_type": "code",
   "execution_count": null,
   "id": "a946f66f-ffc2-4480-bffe-6b9223469790",
   "metadata": {},
   "outputs": [],
   "source": [
    "ecg = pd.read_csv(\"../DATA_CSV/ECG_nofiltered_noscaled_cammina.csv\",names=[\"index\",\"Signal\",\"Label\"],skiprows=1).drop(columns=\"index\")\n",
    "\n",
    "train_ecg_df, test_ecg_df = train_test_split(ecg, test_size=0.2, stratify=ecg['Label'], random_state=123)\n",
    "\n",
    "ecg_mat_train, label_ecg_train = create_array(train_ecg_df) \n",
    "ecg_mat_test, label_ecg_test  = create_array(test_ecg_df) \n",
    "\n",
    "num_components = 0.95\n",
    "pca2 = PCA(n_components = num_components)\n",
    "pca2.fit(ecg_mat_train)\n",
    "ecg_mat_train = pca2.transform(ecg_mat_train)\n",
    "ecg_mat_test = pca2.transform(ecg_mat_test)\n",
    "\n",
    "X_train = ecg_mat_train\n",
    "y_train = label_ecg_train\n",
    "X_test = ecg_mat_test\n",
    "y_test = label_ecg_test\n",
    "\n",
    "# from sklearn.preprocessing import MinMaxScaler\n",
    "# scaling = MinMaxScaler(feature_range=(-1,1)).fit(X_train)\n",
    "# X_train = scaling.transform(X_train)\n",
    "# X_test = scaling.transform(X_test)"
   ]
  },
  {
   "cell_type": "code",
   "execution_count": null,
   "id": "1a5dc5d9-c881-4301-8fcc-bac98a4bf629",
   "metadata": {
    "collapsed": true,
    "jupyter": {
     "outputs_hidden": true
    },
    "tags": []
   },
   "outputs": [],
   "source": [
    "# parameters for linear SVM\n",
    "parameters = {'kernel' : ['linear'] , 'C': [0.001, 0.01, 0.1, 1, 10, 100]}\n",
    "  \n",
    "svc = SVC()\n",
    "clf = GridSearchCV(svc, parameters, cv=4, return_train_score=True)\n",
    "clf.fit(X_train, y_train)\n",
    "\n",
    "print ('RESULTS FOR LINEAR KERNEL')\n",
    "\n",
    "print(\"Best parameters set found:\")\n",
    "print(clf.best_params_)\n",
    "\n",
    "print(\"Score with best parameters:\")\n",
    "print(clf.best_score_)\n",
    "\n",
    "print(\"All scores on the grid:\")\n",
    "df=pd.DataFrame(clf.cv_results_)\n",
    "df[['params', 'mean_test_score']]"
   ]
  },
  {
   "cell_type": "code",
   "execution_count": null,
   "id": "cb7f168a-48b3-49df-9c06-58d425bf1bcb",
   "metadata": {
    "collapsed": true,
    "jupyter": {
     "outputs_hidden": true
    },
    "tags": []
   },
   "outputs": [],
   "source": [
    "# parameters for poly with degree 2 kernel\n",
    "parameters = {'C': [0.05, 0.5, 5],'gamma':[0.05,0.5,5.]}\n",
    "\n",
    "#run SVM with poly of degree 2 kernel\n",
    "\n",
    "svc = SVC()\n",
    "clf = GridSearchCV(SVC(kernel='poly', degree=2, max_iter = 1000), parameters, cv=4, return_train_score=True)\n",
    "clf.fit(X_train, y_train)\n",
    "\n",
    "print ('RESULTS FOR POLY DEGREE=2 KERNEL')\n",
    "\n",
    "print(\"Best parameters set found:\")\n",
    "print(clf.best_params_)\n",
    "\n",
    "print(\"Score with best parameters:\")\n",
    "print(clf.best_score_)\n",
    "\n",
    "print(\"\\nAll scores on the grid:\")\n",
    "df=pd.DataFrame(clf.cv_results_)\n",
    "df[['params', 'mean_test_score']]"
   ]
  },
  {
   "cell_type": "code",
   "execution_count": null,
   "id": "c6c953d9-272e-4b2b-aca7-2b4ac8113aa7",
   "metadata": {
    "collapsed": true,
    "jupyter": {
     "outputs_hidden": true
    },
    "tags": []
   },
   "outputs": [],
   "source": [
    "# parameters for poly with higher degree kernel\n",
    "parameters = {'C': [0.05, 0.5, 5],'gamma':[0.05,0.5,5.]}\n",
    "\n",
    "#run SVM with poly of higher degree kernel\n",
    "degree = 4\n",
    "\n",
    "svc = SVC()\n",
    "clf = GridSearchCV(SVC(kernel='poly', degree=degree, max_iter = 1000), parameters, cv=4, return_train_score=True)\n",
    "clf.fit(X_train, y_train)\n",
    "\n",
    "print ('RESULTS FOR POLY DEGREE=', degree, ' KERNEL')\n",
    "\n",
    "print(\"Best parameters set found:\")\n",
    "print(clf.best_params_)\n",
    "\n",
    "print(\"Score with best parameters:\")\n",
    "print(clf.best_score_)\n",
    "\n",
    "print(\"\\nAll scores on the grid:\")\n",
    "df=pd.DataFrame(clf.cv_results_)\n",
    "df[['params', 'mean_test_score']]"
   ]
  },
  {
   "cell_type": "code",
   "execution_count": null,
   "id": "5652d79b-008a-4f1e-844e-5a0208ca1419",
   "metadata": {
    "collapsed": true,
    "jupyter": {
     "outputs_hidden": true
    },
    "tags": []
   },
   "outputs": [],
   "source": [
    "# parameters for rbf SVM\n",
    "parameters = {'C': [0.5, 5, 50, 500],'gamma':[0.005, 0.05, 0.5,5]}\n",
    "\n",
    "#run SVM with rbf kernel\n",
    "\n",
    "svc = SVC()\n",
    "clf = GridSearchCV(SVC(kernel='rbf', max_iter = 1000), parameters, cv=4, return_train_score=True)\n",
    "clf.fit(X_train, y_train)\n",
    "\n",
    "print ('RESULTS FOR rbf KERNEL')\n",
    "\n",
    "print(\"Best parameters set found:\")\n",
    "print(clf.best_params_)\n",
    "\n",
    "print(\"Score with best parameters:\")\n",
    "print(clf.best_score_)\n",
    "\n",
    "print(\"\\nAll scores on the grid:\")\n",
    "df=pd.DataFrame(clf.cv_results_)\n",
    "df[['params', 'mean_test_score']]"
   ]
  },
  {
   "cell_type": "code",
   "execution_count": null,
   "id": "1102dfa7-476d-4f9b-92b2-f4f355425fb5",
   "metadata": {},
   "outputs": [],
   "source": [
    "# execution time\n",
    "t = []\n",
    "for i in range(100):\n",
    "    start_time = time.time()\n",
    "    best_SVM = SVC(kernel='rbf', C=50, gamma=0.05).fit(X_train,y_train)\n",
    "    t.append(time.time() - start_time)\n",
    "print('Execution time = ', np.mean(t))\n",
    "print('Highest score = ', best_SVM.score(X_test,y_test))"
   ]
  },
  {
   "cell_type": "code",
   "execution_count": null,
   "id": "e17a6a2e-d47e-4dd7-84a6-963fd0c5bab2",
   "metadata": {},
   "outputs": [],
   "source": []
  },
  {
   "cell_type": "markdown",
   "id": "3c743b49-8204-420a-beef-56e6d58dbc64",
   "metadata": {},
   "source": [
    "# PPG"
   ]
  },
  {
   "cell_type": "markdown",
   "id": "9c6df1ec-190b-4995-aa39-75c044427cc9",
   "metadata": {},
   "source": [
    "### SVM PPG FILTERED"
   ]
  },
  {
   "cell_type": "code",
   "execution_count": null,
   "id": "8562919a-b1cc-487a-b723-1b351b067f14",
   "metadata": {},
   "outputs": [],
   "source": [
    "ppg = pd.read_csv(\"../DATA_CSV/PPG_filtered_noscaled_cammina.csv\",names=[\"index\",\"Signal\",\"Label\"],skiprows=1).drop(columns=\"index\")\n",
    "\n",
    "train_ppg_df, test_ppg_df = train_test_split(ppg, test_size=0.2, stratify=ppg['Label'], random_state=123)\n",
    "\n",
    "ppg_mat_train, label_ppg_train = create_array(train_ppg_df) \n",
    "ppg_mat_test, label_ppg_test   = create_array(test_ppg_df) \n",
    "\n",
    "X_train = ppg_mat_train\n",
    "y_train = label_ppg_train\n",
    "X_test = ppg_mat_test\n",
    "y_test = label_ppg_test\n",
    "\n",
    "from sklearn.preprocessing import MinMaxScaler\n",
    "scaling = MinMaxScaler(feature_range=(-1,1)).fit(X_train)\n",
    "X_train = scaling.transform(X_train)\n",
    "X_test = scaling.transform(X_test)"
   ]
  },
  {
   "cell_type": "code",
   "execution_count": null,
   "id": "66ee808d-b651-453d-b928-7ca759c74acb",
   "metadata": {
    "collapsed": true,
    "jupyter": {
     "outputs_hidden": true
    },
    "tags": []
   },
   "outputs": [],
   "source": [
    "# parameters for linear SVM\n",
    "parameters = {'kernel' : ['linear'] , 'C': [0.001, 0.01, 0.1, 1, 10, 100]}\n",
    "  \n",
    "svc = SVC()\n",
    "clf = GridSearchCV(svc, parameters, cv=4, return_train_score=True)\n",
    "clf.fit(X_train, y_train)\n",
    "\n",
    "print ('RESULTS FOR LINEAR KERNEL')\n",
    "\n",
    "print(\"Best parameters set found:\")\n",
    "print(clf.best_params_)\n",
    "\n",
    "print(\"Score with best parameters:\")\n",
    "print(clf.best_score_)\n",
    "\n",
    "print(\"All scores on the grid:\")\n",
    "df=pd.DataFrame(clf.cv_results_)\n",
    "df[['params', 'mean_test_score']]"
   ]
  },
  {
   "cell_type": "code",
   "execution_count": null,
   "id": "ea957039-3a5a-445e-9811-971cb0f3d7cd",
   "metadata": {
    "collapsed": true,
    "jupyter": {
     "outputs_hidden": true
    },
    "tags": []
   },
   "outputs": [],
   "source": [
    "# parameters for poly with degree 2 kernel\n",
    "parameters = {'C': [0.05, 0.5, 5],'gamma':[0.05,0.5,5.]}\n",
    "\n",
    "#run SVM with poly of degree 2 kernel\n",
    "\n",
    "svc = SVC()\n",
    "clf = GridSearchCV(SVC(kernel='poly', degree=2, max_iter = 1000), parameters, cv=4, return_train_score=True)\n",
    "clf.fit(X_train, y_train)\n",
    "\n",
    "print ('RESULTS FOR POLY DEGREE=2 KERNEL')\n",
    "\n",
    "print(\"Best parameters set found:\")\n",
    "print(clf.best_params_)\n",
    "\n",
    "print(\"Score with best parameters:\")\n",
    "print(clf.best_score_)\n",
    "\n",
    "print(\"\\nAll scores on the grid:\")\n",
    "df=pd.DataFrame(clf.cv_results_)\n",
    "df[['params', 'mean_test_score']]"
   ]
  },
  {
   "cell_type": "code",
   "execution_count": null,
   "id": "f2ca2c98-e38c-452d-a185-dc273e4d7772",
   "metadata": {
    "collapsed": true,
    "jupyter": {
     "outputs_hidden": true
    },
    "tags": []
   },
   "outputs": [],
   "source": [
    "# parameters for rbf SVM\n",
    "parameters = {'C': [0.5, 5, 50, 500],'gamma':[0.005, 0.05, 0.5,5]}\n",
    "\n",
    "#run SVM with rbf kernel\n",
    "\n",
    "svc = SVC()\n",
    "clf = GridSearchCV(SVC(kernel='rbf', max_iter = 1000), parameters, cv=4, return_train_score=True)\n",
    "clf.fit(X_train, y_train)\n",
    "\n",
    "print ('RESULTS FOR rbf KERNEL')\n",
    "\n",
    "print(\"Best parameters set found:\")\n",
    "print(clf.best_params_)\n",
    "\n",
    "print(\"Score with best parameters:\")\n",
    "print(clf.best_score_)\n",
    "\n",
    "print(\"\\nAll scores on the grid:\")\n",
    "df=pd.DataFrame(clf.cv_results_)\n",
    "df[['params', 'mean_test_score']]"
   ]
  },
  {
   "cell_type": "code",
   "execution_count": null,
   "id": "60f28fb9-021d-4382-92b6-dc3edf028deb",
   "metadata": {},
   "outputs": [],
   "source": [
    "# execution time\n",
    "t = []\n",
    "for i in range(100):\n",
    "    start_time = time.time()\n",
    "    best_SVM = SVC(kernel='rbf', C=5, gamma=0.5).fit(X_train,y_train)\n",
    "    t.append(time.time() - start_time)\n",
    "print('Execution time = ', np.mean(t))\n",
    "print('Highest score = ', best_SVM.score(X_test,y_test))"
   ]
  },
  {
   "cell_type": "markdown",
   "id": "9fe2411e-78bf-459f-b8b3-5532bfed991c",
   "metadata": {},
   "source": [
    "### SVM PPG FILTERED PCA"
   ]
  },
  {
   "cell_type": "code",
   "execution_count": null,
   "id": "0ecae0e8-b66d-482a-8a76-40c661c8f1b2",
   "metadata": {},
   "outputs": [],
   "source": [
    "ppg = pd.read_csv(\"../DATA_CSV/PPG_filtered_noscaled_cammina.csv\",names=[\"index\",\"Signal\",\"Label\"],skiprows=1).drop(columns=\"index\")\n",
    "\n",
    "train_ppg_df, test_ppg_df = train_test_split(ppg, test_size=0.2, stratify=ppg['Label'], random_state=123)\n",
    "\n",
    "ppg_mat_train, label_ppg_train = create_array(train_ppg_df) \n",
    "ppg_mat_test, label_ppg_test   = create_array(test_ppg_df) \n",
    "\n",
    "num_components = 0.95\n",
    "pca2 = PCA(n_components = num_components)\n",
    "pca2.fit(ecg_mat_train)\n",
    "ecg_mat_train = pca2.transform(ecg_mat_train)\n",
    "ecg_mat_test = pca2.transform(ecg_mat_test)\n",
    "\n",
    "X_train = ppg_mat_train\n",
    "y_train = label_ppg_train\n",
    "X_test = ppg_mat_test\n",
    "y_test = label_ppg_test\n",
    "\n",
    "from sklearn.preprocessing import MinMaxScaler\n",
    "scaling = MinMaxScaler(feature_range=(-1,1)).fit(X_train)\n",
    "X_train = scaling.transform(X_train)\n",
    "X_test = scaling.transform(X_test)"
   ]
  },
  {
   "cell_type": "code",
   "execution_count": null,
   "id": "0e5289c1-cbd2-417f-884d-034bb3490a6d",
   "metadata": {
    "collapsed": true,
    "jupyter": {
     "outputs_hidden": true
    },
    "tags": []
   },
   "outputs": [],
   "source": [
    "# parameters for linear SVM\n",
    "parameters = {'kernel' : ['linear'] , 'C': [0.001, 0.01, 0.1, 1, 10, 100]}\n",
    "  \n",
    "svc = SVC()\n",
    "clf = GridSearchCV(svc, parameters, cv=4, return_train_score=True)\n",
    "clf.fit(X_train, y_train)\n",
    "\n",
    "print ('RESULTS FOR LINEAR KERNEL')\n",
    "\n",
    "print(\"Best parameters set found:\")\n",
    "print(clf.best_params_)\n",
    "\n",
    "print(\"Score with best parameters:\")\n",
    "print(clf.best_score_)\n",
    "\n",
    "print(\"All scores on the grid:\")\n",
    "df=pd.DataFrame(clf.cv_results_)\n",
    "df[['params', 'mean_test_score']]"
   ]
  },
  {
   "cell_type": "code",
   "execution_count": null,
   "id": "e2035289-c4eb-443e-ac6c-a06efcfaaa1d",
   "metadata": {
    "collapsed": true,
    "jupyter": {
     "outputs_hidden": true
    },
    "tags": []
   },
   "outputs": [],
   "source": [
    "# parameters for poly with degree 2 kernel\n",
    "parameters = {'C': [0.05, 0.5, 5],'gamma':[0.05,0.5,5.]}\n",
    "\n",
    "#run SVM with poly of degree 2 kernel\n",
    "\n",
    "svc = SVC()\n",
    "clf = GridSearchCV(SVC(kernel='poly', degree=2, max_iter = 1000), parameters, cv=4, return_train_score=True)\n",
    "clf.fit(X_train, y_train)\n",
    "\n",
    "print ('RESULTS FOR POLY DEGREE=2 KERNEL')\n",
    "\n",
    "print(\"Best parameters set found:\")\n",
    "print(clf.best_params_)\n",
    "\n",
    "print(\"Score with best parameters:\")\n",
    "print(clf.best_score_)\n",
    "\n",
    "print(\"\\nAll scores on the grid:\")\n",
    "df=pd.DataFrame(clf.cv_results_)\n",
    "df[['params', 'mean_test_score']]"
   ]
  },
  {
   "cell_type": "code",
   "execution_count": null,
   "id": "657a3b91-99d0-46cc-a9bd-e2872f120377",
   "metadata": {
    "collapsed": true,
    "jupyter": {
     "outputs_hidden": true
    },
    "tags": []
   },
   "outputs": [],
   "source": [
    "# parameters for rbf SVM\n",
    "parameters = {'C': [0.5, 5, 50, 500],'gamma':[0.005, 0.05, 0.5,5]}\n",
    "\n",
    "#run SVM with rbf kernel\n",
    "\n",
    "svc = SVC()\n",
    "clf = GridSearchCV(SVC(kernel='rbf', max_iter = 1000), parameters, cv=4, return_train_score=True)\n",
    "clf.fit(X_train, y_train)\n",
    "\n",
    "print ('RESULTS FOR rbf KERNEL')\n",
    "\n",
    "print(\"Best parameters set found:\")\n",
    "print(clf.best_params_)\n",
    "\n",
    "print(\"Score with best parameters:\")\n",
    "print(clf.best_score_)\n",
    "\n",
    "print(\"\\nAll scores on the grid:\")\n",
    "df=pd.DataFrame(clf.cv_results_)\n",
    "df[['params', 'mean_test_score']]"
   ]
  },
  {
   "cell_type": "code",
   "execution_count": null,
   "id": "3bb911c2-55e4-4f86-ab8d-8370090e1fe7",
   "metadata": {},
   "outputs": [],
   "source": [
    "# execution time\n",
    "t = []\n",
    "for i in range(100):\n",
    "    start_time = time.time()\n",
    "    best_SVM = SVC(kernel='rbf', C=5, gamma=0.5).fit(X_train,y_train)\n",
    "    t.append(time.time() - start_time)\n",
    "print('Execution time = ', np.mean(t))\n",
    "print('Highest score = ', best_SVM.score(X_test,y_test))"
   ]
  },
  {
   "cell_type": "markdown",
   "id": "748b05c4-e64b-412c-999d-08f305188a3d",
   "metadata": {},
   "source": [
    "### SVM PPG noFILTERED"
   ]
  },
  {
   "cell_type": "code",
   "execution_count": null,
   "id": "5fa37aee-3a96-4adc-ac73-6e89a385db87",
   "metadata": {},
   "outputs": [],
   "source": [
    "ppg = pd.read_csv(\"../DATA_CSV/PPG_nofiltered_noscaled_cammina.csv\",names=[\"index\",\"Signal\",\"Label\"],skiprows=1).drop(columns=\"index\")\n",
    "\n",
    "train_ppg_df, test_ppg_df = train_test_split(ppg, test_size=0.2, stratify=ppg['Label'], random_state=123)\n",
    "\n",
    "ppg_mat_train, label_ppg_train = create_array(train_ppg_df) \n",
    "ppg_mat_test, label_ppg_test   = create_array(test_ppg_df) \n",
    "\n",
    "X_train = ppg_mat_train\n",
    "y_train = label_ppg_train\n",
    "X_test = ppg_mat_test\n",
    "y_test = label_ppg_test\n",
    "\n",
    "from sklearn.preprocessing import MinMaxScaler\n",
    "scaling = MinMaxScaler(feature_range=(-1,1)).fit(X_train)\n",
    "X_train = scaling.transform(X_train)\n",
    "X_test = scaling.transform(X_test)"
   ]
  },
  {
   "cell_type": "code",
   "execution_count": null,
   "id": "f9e3bcc8-c9c5-4884-a6d2-85a384ebef4d",
   "metadata": {
    "collapsed": true,
    "jupyter": {
     "outputs_hidden": true
    },
    "tags": []
   },
   "outputs": [],
   "source": [
    "# parameters for linear SVM\n",
    "parameters = {'kernel' : ['linear'] , 'C': [0.001, 0.01, 0.1, 1, 10, 100]}\n",
    "  \n",
    "svc = SVC()\n",
    "clf = GridSearchCV(svc, parameters, cv=4, return_train_score=True)\n",
    "clf.fit(X_train, y_train)\n",
    "\n",
    "print ('RESULTS FOR LINEAR KERNEL')\n",
    "\n",
    "print(\"Best parameters set found:\")\n",
    "print(clf.best_params_)\n",
    "\n",
    "print(\"Score with best parameters:\")\n",
    "print(clf.best_score_)\n",
    "\n",
    "print(\"All scores on the grid:\")\n",
    "df=pd.DataFrame(clf.cv_results_)\n",
    "df[['params', 'mean_test_score']]"
   ]
  },
  {
   "cell_type": "code",
   "execution_count": null,
   "id": "8e51219d-ea37-4e14-8c2b-a5fb32d5840a",
   "metadata": {
    "collapsed": true,
    "jupyter": {
     "outputs_hidden": true
    },
    "tags": []
   },
   "outputs": [],
   "source": [
    "# parameters for poly with degree 2 kernel\n",
    "parameters = {'C': [0.05, 0.5, 5],'gamma':[0.05,0.5,5.]}\n",
    "\n",
    "#run SVM with poly of degree 2 kernel\n",
    "\n",
    "svc = SVC()\n",
    "clf = GridSearchCV(SVC(kernel='poly', degree=2,max_iter = 1000), parameters, cv=4, return_train_score=True)\n",
    "clf.fit(X_train, y_train)\n",
    "\n",
    "print ('RESULTS FOR POLY DEGREE=2 KERNEL')\n",
    "\n",
    "print(\"Best parameters set found:\")\n",
    "print(clf.best_params_)\n",
    "\n",
    "print(\"Score with best parameters:\")\n",
    "print(clf.best_score_)\n",
    "\n",
    "print(\"\\nAll scores on the grid:\")\n",
    "df=pd.DataFrame(clf.cv_results_)\n",
    "df[['params', 'mean_test_score']]"
   ]
  },
  {
   "cell_type": "code",
   "execution_count": null,
   "id": "bf10e16a-a4e9-4f32-a701-2a61b44842a4",
   "metadata": {
    "collapsed": true,
    "jupyter": {
     "outputs_hidden": true
    },
    "tags": []
   },
   "outputs": [],
   "source": [
    "# parameters for rbf SVM\n",
    "parameters = {'C': [0.5, 5, 50, 500],'gamma':[0.005, 0.05, 0.5,5]}\n",
    "\n",
    "#run SVM with rbf kernel\n",
    "\n",
    "svc = SVC()\n",
    "clf = GridSearchCV(SVC(kernel='rbf', max_iter = 1000), parameters, cv=4, return_train_score=True)\n",
    "clf.fit(X_train, y_train)\n",
    "\n",
    "print ('RESULTS FOR rbf KERNEL')\n",
    "\n",
    "print(\"Best parameters set found:\")\n",
    "print(clf.best_params_)\n",
    "\n",
    "print(\"Score with best parameters:\")\n",
    "print(clf.best_score_)\n",
    "\n",
    "print(\"\\nAll scores on the grid:\")\n",
    "df=pd.DataFrame(clf.cv_results_)\n",
    "df[['params', 'mean_test_score']]"
   ]
  },
  {
   "cell_type": "code",
   "execution_count": null,
   "id": "c4d01c94-0d09-4f26-803d-d79ae006ce86",
   "metadata": {},
   "outputs": [],
   "source": [
    "# execution time\n",
    "t = []\n",
    "for i in range(100):\n",
    "    start_time = time.time()\n",
    "    best_SVM = SVC(kernel='rbf', C=5, gamma=0.5).fit(X_train,y_train)\n",
    "    t.append(time.time() - start_time)\n",
    "print('Execution time = ', np.mean(t))\n",
    "print('Highest score = ', best_SVM.score(X_test,y_test))"
   ]
  },
  {
   "cell_type": "markdown",
   "id": "567d18b5-7ab8-42fd-9dfd-1257d5e66cf4",
   "metadata": {},
   "source": [
    "### SVM PPG FILTERED PCA"
   ]
  },
  {
   "cell_type": "code",
   "execution_count": null,
   "id": "94de5b54-7057-49be-bd8c-945928bfc74a",
   "metadata": {},
   "outputs": [],
   "source": [
    "ppg = pd.read_csv(\"../DATA_CSV/PPG_nofiltered_noscaled_cammina.csv\",names=[\"index\",\"Signal\",\"Label\"],skiprows=1).drop(columns=\"index\")\n",
    "\n",
    "train_ppg_df, test_ppg_df = train_test_split(ppg, test_size=0.2, stratify=ppg['Label'], random_state=123)\n",
    "\n",
    "ppg_mat_train, label_ppg_train = create_array(train_ppg_df) \n",
    "ppg_mat_test, label_ppg_test   = create_array(test_ppg_df) \n",
    "\n",
    "num_components = 0.95\n",
    "pca2 = PCA(n_components = num_components)\n",
    "pca2.fit(ecg_mat_train)\n",
    "ecg_mat_train = pca2.transform(ecg_mat_train)\n",
    "ecg_mat_test = pca2.transform(ecg_mat_test)\n",
    "\n",
    "X_train = ppg_mat_train\n",
    "y_train = label_ppg_train\n",
    "X_test = ppg_mat_test\n",
    "y_test = label_ppg_test\n",
    "\n",
    "from sklearn.preprocessing import MinMaxScaler\n",
    "scaling = MinMaxScaler(feature_range=(-1,1)).fit(X_train)\n",
    "X_train = scaling.transform(X_train)\n",
    "X_test = scaling.transform(X_test)"
   ]
  },
  {
   "cell_type": "code",
   "execution_count": null,
   "id": "a477e472-ea79-46e8-a83f-a245ed62f543",
   "metadata": {
    "collapsed": true,
    "jupyter": {
     "outputs_hidden": true
    },
    "tags": []
   },
   "outputs": [],
   "source": [
    "# parameters for linear SVM\n",
    "parameters = {'kernel' : ['linear'] , 'C': [0.001, 0.01, 0.1, 1, 10, 100]}\n",
    "  \n",
    "svc = SVC()\n",
    "clf = GridSearchCV(svc, parameters, cv=4, return_train_score=True)\n",
    "clf.fit(X_train, y_train)\n",
    "\n",
    "print ('RESULTS FOR LINEAR KERNEL')\n",
    "\n",
    "print(\"Best parameters set found:\")\n",
    "print(clf.best_params_)\n",
    "\n",
    "print(\"Score with best parameters:\")\n",
    "print(clf.best_score_)\n",
    "\n",
    "print(\"All scores on the grid:\")\n",
    "df=pd.DataFrame(clf.cv_results_)\n",
    "df[['params', 'mean_test_score']]"
   ]
  },
  {
   "cell_type": "code",
   "execution_count": null,
   "id": "a508cf39-e4e6-4937-b7ac-4a49a6a80ffc",
   "metadata": {
    "collapsed": true,
    "jupyter": {
     "outputs_hidden": true
    },
    "tags": []
   },
   "outputs": [],
   "source": [
    "# parameters for poly with degree 2 kernel\n",
    "parameters = {'C': [0.05, 0.5, 5],'gamma':[0.05,0.5,5.]}\n",
    "\n",
    "#run SVM with poly of degree 2 kernel\n",
    "\n",
    "svc = SVC()\n",
    "clf = GridSearchCV(SVC(kernel='poly', degree=2, max_iter = 1000), parameters, cv=4, return_train_score=True)\n",
    "clf.fit(X_train, y_train)\n",
    "\n",
    "print ('RESULTS FOR POLY DEGREE=2 KERNEL')\n",
    "\n",
    "print(\"Best parameters set found:\")\n",
    "print(clf.best_params_)\n",
    "\n",
    "print(\"Score with best parameters:\")\n",
    "print(clf.best_score_)\n",
    "\n",
    "print(\"\\nAll scores on the grid:\")\n",
    "df=pd.DataFrame(clf.cv_results_)\n",
    "df[['params', 'mean_test_score']]"
   ]
  },
  {
   "cell_type": "code",
   "execution_count": null,
   "id": "1a407305-dc16-47c7-a834-016d16b9cc9b",
   "metadata": {
    "collapsed": true,
    "jupyter": {
     "outputs_hidden": true
    },
    "tags": []
   },
   "outputs": [],
   "source": [
    "# parameters for rbf SVM\n",
    "parameters = {'C': [0.5, 5, 50, 500],'gamma':[0.005, 0.05, 0.5,5]}\n",
    "\n",
    "#run SVM with rbf kernel\n",
    "\n",
    "svc = SVC()\n",
    "clf = GridSearchCV(SVC(kernel='rbf', max_iter = 1000), parameters, cv=4, return_train_score=True)\n",
    "clf.fit(X_train, y_train)\n",
    "\n",
    "print ('RESULTS FOR rbf KERNEL')\n",
    "\n",
    "print(\"Best parameters set found:\")\n",
    "print(clf.best_params_)\n",
    "\n",
    "print(\"Score with best parameters:\")\n",
    "print(clf.best_score_)\n",
    "\n",
    "print(\"\\nAll scores on the grid:\")\n",
    "df=pd.DataFrame(clf.cv_results_)\n",
    "df[['params', 'mean_test_score']]"
   ]
  },
  {
   "cell_type": "code",
   "execution_count": null,
   "id": "413a76a6-130f-4a35-b671-f6d8e6bac93b",
   "metadata": {},
   "outputs": [],
   "source": [
    "# execution time\n",
    "t = []\n",
    "for i in range(100):\n",
    "    start_time = time.time()\n",
    "    best_SVM = SVC(kernel='rbf', C=5, gamma=0.5).fit(X_train,y_train)\n",
    "    t.append(time.time() - start_time)\n",
    "print('Execution time = ', np.mean(t))\n",
    "print('Highest score = ', best_SVM.score(X_test,y_test))"
   ]
  },
  {
   "cell_type": "code",
   "execution_count": null,
   "id": "87f612ac-c13f-4962-88ae-bb41a7cf4a2c",
   "metadata": {},
   "outputs": [],
   "source": []
  }
 ],
 "metadata": {
  "kernelspec": {
   "display_name": "Python 3 (ipykernel)",
   "language": "python",
   "name": "python3"
  },
  "language_info": {
   "codemirror_mode": {
    "name": "ipython",
    "version": 3
   },
   "file_extension": ".py",
   "mimetype": "text/x-python",
   "name": "python",
   "nbconvert_exporter": "python",
   "pygments_lexer": "ipython3",
   "version": "3.8.3"
  }
 },
 "nbformat": 4,
 "nbformat_minor": 5
}
