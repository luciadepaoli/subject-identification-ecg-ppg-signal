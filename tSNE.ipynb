{
 "cells": [
  {
   "cell_type": "markdown",
   "id": "548e5186-f281-41ff-924b-db54c90352f6",
   "metadata": {},
   "source": [
    "# At rest and in motion dataset t-SNE"
   ]
  },
  {
   "cell_type": "code",
   "execution_count": null,
   "id": "c48c131b-296e-479c-9f56-ad53ed8a44cb",
   "metadata": {},
   "outputs": [],
   "source": [
    "%run -i utils.py"
   ]
  },
  {
   "cell_type": "markdown",
   "id": "ea8aece9-6631-4b07-8983-078072e6fe89",
   "metadata": {},
   "source": [
    "# DBSCAN"
   ]
  },
  {
   "cell_type": "code",
   "execution_count": null,
   "id": "d7dc6356-5f22-472a-a093-9659a766ee12",
   "metadata": {},
   "outputs": [],
   "source": [
    "ecg = pd.read_csv(\"../DATA_CSV/ECG_filtered_noscaled.csv\",names=[\"index\",\"Signal\",\"Label\"],skiprows=1).drop(columns=\"index\")\n",
    "ppg = pd.read_csv(\"../DATA_CSV/PPG_filtered_noscaled.csv\",names=[\"index\",\"Signal\",\"Label\"],skiprows=1).drop(columns=\"index\")\n",
    "\n",
    "ecg_mat_train, label_ecg_train = create_array(ecg) \n",
    "ppg_mat_test, label_ppg_test = create_array(ppg) \n",
    "\n",
    "data_embedded2D = skm.TSNE(n_components=2,perplexity=30,random_state=0).fit_transform(ecg_mat_train)\n",
    "df1 = pd.DataFrame(data_embedded2D)\n",
    "df1 = df1.rename(columns={0: 'X', 1: \"Y\"})\n",
    "df1['Label']=pd.Series(label_ecg_train)"
   ]
  },
  {
   "cell_type": "code",
   "execution_count": null,
   "id": "d5b3051f-266f-47c7-918d-f15362a1048e",
   "metadata": {},
   "outputs": [],
   "source": [
    "ecg = pd.read_csv(\"../DATA_CSV/ECG_filtered_noscaled_cammina.csv\",names=[\"index\",\"Signal\",\"Label\"],skiprows=1).drop(columns=\"index\")\n",
    "ppg = pd.read_csv(\"../DATA_CSV/PPG_filtered_noscaled_cammina.csv\",names=[\"index\",\"Signal\",\"Label\"],skiprows=1).drop(columns=\"index\")\n",
    "\n",
    "ecg_mat_train, label_ecg_train = create_array(ecg) \n",
    "ppg_mat_test, label_ppg_test = create_array(ppg) \n",
    "\n",
    "data_embedded2D = skm.TSNE(n_components=2,perplexity=30,random_state=0).fit_transform(ecg_mat_train)\n",
    "df2 = pd.DataFrame(data_embedded2D)\n",
    "df2 = df2.rename(columns={0: 'X', 1: \"Y\"})\n",
    "df2['Label']=pd.Series(label_ecg_train)"
   ]
  },
  {
   "cell_type": "code",
   "execution_count": null,
   "id": "9f6ad852-3de0-4940-aecd-8f87e3b644b7",
   "metadata": {},
   "outputs": [],
   "source": [
    "fig, (ax1, ax2) = plt.subplots(1, 2,figsize=(25,10)) \n",
    "fig.suptitle(\"t-SNE\",fontsize=18) \n",
    "for item in ([ax1.title, ax1.xaxis.label, ax1.yaxis.label]): \n",
    "    item.set_fontsize(21) \n",
    "for item in (ax1.get_xticklabels() + ax1.get_yticklabels()): \n",
    "    item.set_fontsize(18)\n",
    "sns.scatterplot(data=df1, x=\"X\", y=\"Y\", hue=\"Label\", palette=\"bright\", s=500, ax=ax1)\n",
    "handles, labels  =  ax1.get_legend_handles_labels()\n",
    "ax1.legend(handles, ['A','B','C','D'])\n",
    "ax1.grid() \n",
    "\n",
    "for item in ([ax2.title, ax2.xaxis.label, ax2.yaxis.label]): \n",
    "    item.set_fontsize(21) \n",
    "for item in (ax2.get_xticklabels() + ax2.get_yticklabels()): \n",
    "    item.set_fontsize(18) \n",
    "sns.scatterplot(data=df2, x=\"X\", y=\"Y\", hue=\"Label\", palette=\"bright\", s=500, ax=ax2)\n",
    "handles, labels  =  ax2.get_legend_handles_labels()\n",
    "ax2.legend(handles, ['A at rest','B at rest','A in motion','B in motion'])\n",
    "ax2.grid() \n",
    "\n",
    "plt.savefig(\"./img/tsne.pdf\")"
   ]
  },
  {
   "cell_type": "markdown",
   "id": "81617539-d4d6-4a7b-87db-64894e0fd23a",
   "metadata": {},
   "source": [
    "### PPG "
   ]
  },
  {
   "cell_type": "code",
   "execution_count": null,
   "id": "4364aa50-3313-4789-9dab-aacec383ffb1",
   "metadata": {},
   "outputs": [],
   "source": [
    "data_embedded= skm.TSNE(n_components=3,perplexity=30,random_state=0).fit_transform(ppg_mat_test)"
   ]
  },
  {
   "cell_type": "code",
   "execution_count": null,
   "id": "642b5d5c-f821-4187-a0b2-74229909f04b",
   "metadata": {},
   "outputs": [],
   "source": [
    "fig = plt.figure(figsize=(16,10))\n",
    "ax = fig.add_subplot(111, projection='3d')\n",
    "\n",
    "ax.scatter3D(data_embedded[label_ppg_test == 0,0], data_embedded[label_ppg_test == 0,1], data_embedded[label_ppg_test == 0,2])\n",
    "ax.scatter3D(data_embedded[label_ppg_test == 1,0], data_embedded[label_ppg_test == 1,1], data_embedded[label_ppg_test == 1,2])\n",
    "ax.scatter3D(data_embedded[label_ppg_test == 2,0], data_embedded[label_ppg_test == 2,1], data_embedded[label_ppg_test == 2,2])\n",
    "ax.scatter3D(data_embedded[label_ppg_test == 3,0], data_embedded[label_ppg_test == 3,1], data_embedded[label_ppg_test == 3,2])\n",
    "ax.view_init(elev=10, azim=40)\n",
    "plt.show()"
   ]
  },
  {
   "cell_type": "code",
   "execution_count": null,
   "id": "0fd026d9-ca6e-4542-a32e-9a8c5303dba8",
   "metadata": {},
   "outputs": [],
   "source": [
    "label_encoder = LabelEncoder()\n",
    "color = label_encoder.fit_transform(label_ppg_test)"
   ]
  },
  {
   "cell_type": "code",
   "execution_count": null,
   "id": "9e365302-06f5-42e1-8d5e-800e0b61578f",
   "metadata": {},
   "outputs": [],
   "source": [
    "import plotly.graph_objects as go\n",
    "fig = go.Figure(data=[go.Scatter3d(\n",
    "    x=data_embedded[:,0],\n",
    "    y=data_embedded[:,1],\n",
    "    z=data_embedded[:,2],\n",
    "    mode='markers',\n",
    "    marker=dict(\n",
    "        size=2,\n",
    "        color = color,\n",
    "        colorscale = 'Viridis',\n",
    "        opacity = 0.7\n",
    "    )\n",
    ")])\n",
    "\n",
    "fig.update_layout(scene = dict(\n",
    "                    xaxis_title='First principal component',\n",
    "                    yaxis_title='Second principal component',\n",
    "                    zaxis_title='Third principal component'),\n",
    "                    margin=dict(r=20, b=10, l=10, t=10))\n",
    "fig.show()"
   ]
  },
  {
   "cell_type": "code",
   "execution_count": null,
   "id": "5704f3d5-66ab-478e-8a19-7d79b7436810",
   "metadata": {},
   "outputs": [],
   "source": []
  }
 ],
 "metadata": {
  "kernelspec": {
   "display_name": "Python 3 (ipykernel)",
   "language": "python",
   "name": "python3"
  },
  "language_info": {
   "codemirror_mode": {
    "name": "ipython",
    "version": 3
   },
   "file_extension": ".py",
   "mimetype": "text/x-python",
   "name": "python",
   "nbconvert_exporter": "python",
   "pygments_lexer": "ipython3",
   "version": "3.8.3"
  }
 },
 "nbformat": 4,
 "nbformat_minor": 5
}
